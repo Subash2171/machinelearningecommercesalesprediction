{
 "cells": [
  {
   "cell_type": "code",
   "execution_count": 4,
   "metadata": {},
   "outputs": [],
   "source": [
    "import numpy as np\n",
    "import pandas as pd\n",
    "import matplotlib.pyplot as plt"
   ]
  },
  {
   "cell_type": "code",
   "execution_count": 5,
   "metadata": {},
   "outputs": [],
   "source": [
    "dataset = pd.read_csv('Ecommerce.csv')"
   ]
  },
  {
   "cell_type": "code",
   "execution_count": 6,
   "metadata": {},
   "outputs": [
    {
     "data": {
      "text/html": [
       "<div>\n",
       "<style scoped>\n",
       "    .dataframe tbody tr th:only-of-type {\n",
       "        vertical-align: middle;\n",
       "    }\n",
       "\n",
       "    .dataframe tbody tr th {\n",
       "        vertical-align: top;\n",
       "    }\n",
       "\n",
       "    .dataframe thead th {\n",
       "        text-align: right;\n",
       "    }\n",
       "</style>\n",
       "<table border=\"1\" class=\"dataframe\">\n",
       "  <thead>\n",
       "    <tr style=\"text-align: right;\">\n",
       "      <th></th>\n",
       "      <th>Email</th>\n",
       "      <th>Address</th>\n",
       "      <th>Avatar</th>\n",
       "      <th>Avg. Session Length</th>\n",
       "      <th>Time on App</th>\n",
       "      <th>Time on Website</th>\n",
       "      <th>Length of Membership</th>\n",
       "      <th>Yearly Amount Spent</th>\n",
       "    </tr>\n",
       "  </thead>\n",
       "  <tbody>\n",
       "    <tr>\n",
       "      <th>0</th>\n",
       "      <td>mstephenson@fernandez.com</td>\n",
       "      <td>835 Frank Tunnel\\nWrightmouth, MI 82180-9605</td>\n",
       "      <td>Violet</td>\n",
       "      <td>34.497268</td>\n",
       "      <td>12.655651</td>\n",
       "      <td>39.577668</td>\n",
       "      <td>4.082621</td>\n",
       "      <td>587.951054</td>\n",
       "    </tr>\n",
       "    <tr>\n",
       "      <th>1</th>\n",
       "      <td>hduke@hotmail.com</td>\n",
       "      <td>4547 Archer Common\\nDiazchester, CA 06566-8576</td>\n",
       "      <td>DarkGreen</td>\n",
       "      <td>31.926272</td>\n",
       "      <td>11.109461</td>\n",
       "      <td>37.268959</td>\n",
       "      <td>2.664034</td>\n",
       "      <td>392.204933</td>\n",
       "    </tr>\n",
       "    <tr>\n",
       "      <th>2</th>\n",
       "      <td>pallen@yahoo.com</td>\n",
       "      <td>24645 Valerie Unions Suite 582\\nCobbborough, D...</td>\n",
       "      <td>Bisque</td>\n",
       "      <td>33.000915</td>\n",
       "      <td>11.330278</td>\n",
       "      <td>37.110597</td>\n",
       "      <td>4.104543</td>\n",
       "      <td>487.547505</td>\n",
       "    </tr>\n",
       "    <tr>\n",
       "      <th>3</th>\n",
       "      <td>riverarebecca@gmail.com</td>\n",
       "      <td>1414 David Throughway\\nPort Jason, OH 22070-1220</td>\n",
       "      <td>SaddleBrown</td>\n",
       "      <td>34.305557</td>\n",
       "      <td>13.717514</td>\n",
       "      <td>36.721283</td>\n",
       "      <td>3.120179</td>\n",
       "      <td>581.852344</td>\n",
       "    </tr>\n",
       "    <tr>\n",
       "      <th>4</th>\n",
       "      <td>mstephens@davidson-herman.com</td>\n",
       "      <td>14023 Rodriguez Passage\\nPort Jacobville, PR 3...</td>\n",
       "      <td>MediumAquaMarine</td>\n",
       "      <td>33.330673</td>\n",
       "      <td>12.795189</td>\n",
       "      <td>37.536653</td>\n",
       "      <td>4.446308</td>\n",
       "      <td>599.406092</td>\n",
       "    </tr>\n",
       "    <tr>\n",
       "      <th>5</th>\n",
       "      <td>alvareznancy@lucas.biz</td>\n",
       "      <td>645 Martha Park Apt. 611\\nJeffreychester, MN 6...</td>\n",
       "      <td>FloralWhite</td>\n",
       "      <td>33.871038</td>\n",
       "      <td>12.026925</td>\n",
       "      <td>34.476878</td>\n",
       "      <td>5.493507</td>\n",
       "      <td>637.102448</td>\n",
       "    </tr>\n",
       "    <tr>\n",
       "      <th>6</th>\n",
       "      <td>katherine20@yahoo.com</td>\n",
       "      <td>68388 Reyes Lights Suite 692\\nJosephbury, WV 9...</td>\n",
       "      <td>DarkSlateBlue</td>\n",
       "      <td>32.021596</td>\n",
       "      <td>11.366348</td>\n",
       "      <td>36.683776</td>\n",
       "      <td>4.685017</td>\n",
       "      <td>521.572175</td>\n",
       "    </tr>\n",
       "    <tr>\n",
       "      <th>7</th>\n",
       "      <td>awatkins@yahoo.com</td>\n",
       "      <td>Unit 6538 Box 8980\\nDPO AP 09026-4941</td>\n",
       "      <td>Aqua</td>\n",
       "      <td>32.739143</td>\n",
       "      <td>12.351959</td>\n",
       "      <td>37.373359</td>\n",
       "      <td>4.434273</td>\n",
       "      <td>549.904146</td>\n",
       "    </tr>\n",
       "    <tr>\n",
       "      <th>8</th>\n",
       "      <td>vchurch@walter-martinez.com</td>\n",
       "      <td>860 Lee Key\\nWest Debra, SD 97450-0495</td>\n",
       "      <td>Salmon</td>\n",
       "      <td>33.987773</td>\n",
       "      <td>13.386235</td>\n",
       "      <td>37.534497</td>\n",
       "      <td>3.273434</td>\n",
       "      <td>570.200409</td>\n",
       "    </tr>\n",
       "    <tr>\n",
       "      <th>9</th>\n",
       "      <td>bonnie69@lin.biz</td>\n",
       "      <td>PSC 2734, Box 5255\\nAPO AA 98456-7482</td>\n",
       "      <td>Brown</td>\n",
       "      <td>31.936549</td>\n",
       "      <td>11.814128</td>\n",
       "      <td>37.145168</td>\n",
       "      <td>3.202806</td>\n",
       "      <td>427.199385</td>\n",
       "    </tr>\n",
       "  </tbody>\n",
       "</table>\n",
       "</div>"
      ],
      "text/plain": [
       "                           Email  \\\n",
       "0      mstephenson@fernandez.com   \n",
       "1              hduke@hotmail.com   \n",
       "2               pallen@yahoo.com   \n",
       "3        riverarebecca@gmail.com   \n",
       "4  mstephens@davidson-herman.com   \n",
       "5         alvareznancy@lucas.biz   \n",
       "6          katherine20@yahoo.com   \n",
       "7             awatkins@yahoo.com   \n",
       "8    vchurch@walter-martinez.com   \n",
       "9               bonnie69@lin.biz   \n",
       "\n",
       "                                             Address            Avatar  \\\n",
       "0       835 Frank Tunnel\\nWrightmouth, MI 82180-9605            Violet   \n",
       "1     4547 Archer Common\\nDiazchester, CA 06566-8576         DarkGreen   \n",
       "2  24645 Valerie Unions Suite 582\\nCobbborough, D...            Bisque   \n",
       "3   1414 David Throughway\\nPort Jason, OH 22070-1220       SaddleBrown   \n",
       "4  14023 Rodriguez Passage\\nPort Jacobville, PR 3...  MediumAquaMarine   \n",
       "5  645 Martha Park Apt. 611\\nJeffreychester, MN 6...       FloralWhite   \n",
       "6  68388 Reyes Lights Suite 692\\nJosephbury, WV 9...     DarkSlateBlue   \n",
       "7              Unit 6538 Box 8980\\nDPO AP 09026-4941              Aqua   \n",
       "8             860 Lee Key\\nWest Debra, SD 97450-0495            Salmon   \n",
       "9              PSC 2734, Box 5255\\nAPO AA 98456-7482             Brown   \n",
       "\n",
       "   Avg. Session Length  Time on App  Time on Website  Length of Membership  \\\n",
       "0            34.497268    12.655651        39.577668              4.082621   \n",
       "1            31.926272    11.109461        37.268959              2.664034   \n",
       "2            33.000915    11.330278        37.110597              4.104543   \n",
       "3            34.305557    13.717514        36.721283              3.120179   \n",
       "4            33.330673    12.795189        37.536653              4.446308   \n",
       "5            33.871038    12.026925        34.476878              5.493507   \n",
       "6            32.021596    11.366348        36.683776              4.685017   \n",
       "7            32.739143    12.351959        37.373359              4.434273   \n",
       "8            33.987773    13.386235        37.534497              3.273434   \n",
       "9            31.936549    11.814128        37.145168              3.202806   \n",
       "\n",
       "   Yearly Amount Spent  \n",
       "0           587.951054  \n",
       "1           392.204933  \n",
       "2           487.547505  \n",
       "3           581.852344  \n",
       "4           599.406092  \n",
       "5           637.102448  \n",
       "6           521.572175  \n",
       "7           549.904146  \n",
       "8           570.200409  \n",
       "9           427.199385  "
      ]
     },
     "execution_count": 6,
     "metadata": {},
     "output_type": "execute_result"
    }
   ],
   "source": [
    "dataset.head(10)\n"
   ]
  },
  {
   "cell_type": "code",
   "execution_count": 7,
   "metadata": {},
   "outputs": [],
   "source": [
    "x = dataset.iloc[:,3:7].values\n",
    "X = dataset.iloc[:,6:7].values"
   ]
  },
  {
   "cell_type": "code",
   "execution_count": 8,
   "metadata": {},
   "outputs": [],
   "source": [
    "y = dataset.iloc[:,7].values"
   ]
  },
  {
   "cell_type": "code",
   "execution_count": 9,
   "metadata": {},
   "outputs": [
    {
     "data": {
      "text/plain": [
       "array([[34.49726773, 12.65565115, 39.57766802,  4.08262063],\n",
       "       [31.92627203, 11.10946073, 37.26895887,  2.66403418],\n",
       "       [33.00091476, 11.33027806, 37.11059744,  4.1045432 ],\n",
       "       ...,\n",
       "       [32.64677668, 11.49940906, 38.33257633,  4.95826447],\n",
       "       [33.32250105, 12.39142299, 36.84008573,  2.33648467],\n",
       "       [33.71598092, 12.41880832, 35.77101619,  2.73515957]])"
      ]
     },
     "execution_count": 9,
     "metadata": {},
     "output_type": "execute_result"
    }
   ],
   "source": [
    "x"
   ]
  },
  {
   "cell_type": "code",
   "execution_count": 10,
   "metadata": {},
   "outputs": [
    {
     "data": {
      "text/plain": [
       "array([587.95105397, 392.20493344, 487.54750487, 581.85234404,\n",
       "       599.40609205, 637.10244792, 521.57217476, 549.90414611,\n",
       "       570.20040896, 427.1993849 , 492.60601272, 522.33740461,\n",
       "       408.64035107, 573.41586733, 470.4527333 , 461.7807422 ,\n",
       "       457.84769594, 407.70454755, 452.31567548, 605.0610388 ,\n",
       "       534.70574381, 419.93877484, 436.51560573, 519.34098913,\n",
       "       700.91709162, 423.17999168, 619.89563986, 486.83893477,\n",
       "       529.53766534, 554.72208383, 497.5866713 , 447.68790654,\n",
       "       588.71260551, 491.07322368, 507.44183234, 521.88357317,\n",
       "       347.77692663, 490.73863214, 478.17033405, 537.84619527,\n",
       "       532.75178758, 501.87443028, 591.19717818, 547.24434342,\n",
       "       448.22982919, 549.86059046, 593.91500297, 563.67287336,\n",
       "       479.73194909, 416.35835358, 725.58481406, 442.66725174,\n",
       "       384.62657157, 451.45744687, 522.40414126, 483.67330802,\n",
       "       520.89879445, 453.16950235, 496.65070807, 547.36514059,\n",
       "       616.85152297, 507.212569  , 613.59932337, 483.15972078,\n",
       "       540.26340041, 765.51846194, 553.60153468, 469.3108615 ,\n",
       "       408.62018783, 451.57568516, 444.96655165, 595.8228367 ,\n",
       "       418.1500811 , 534.7771881 , 578.24160506, 478.71935687,\n",
       "       444.2859075 , 544.77986372, 488.78606109, 475.75906779,\n",
       "       489.812488  , 462.89763615, 596.43017262, 338.31986264,\n",
       "       533.51493526, 536.77189936, 487.37930602, 473.72896651,\n",
       "       547.12593175, 505.11334354, 449.07031944, 611.0000251 ,\n",
       "       515.82881485, 439.07476674, 514.08895775, 543.34016626,\n",
       "       521.14295181, 614.71533383, 507.39006179, 495.29944255,\n",
       "       518.06455798, 390.10327297, 420.73767324, 492.10505239,\n",
       "       410.06961106, 497.51368333, 494.55186109, 378.33090691,\n",
       "       570.45172591, 549.00822693, 459.28512346, 492.94505307,\n",
       "       424.76263551, 422.42677588, 642.10157873, 413.37178311,\n",
       "       479.23109291, 593.07724134, 506.54730705, 571.30749488,\n",
       "       576.31117737, 576.8025474 , 514.23952072, 495.17595045,\n",
       "       514.33655827, 541.22658399, 516.83155668, 468.44573723,\n",
       "       548.2803202 , 431.61773376, 552.94034545, 573.30622226,\n",
       "       452.627255  , 542.7115581 , 407.80403064, 482.35357032,\n",
       "       529.23009012, 433.0487691 , 476.19141335, 439.99787994,\n",
       "       448.93329321, 472.99224667, 463.92351299, 350.05820016,\n",
       "       460.06127739, 505.77114032, 463.4849954 , 479.73193765,\n",
       "       424.18549429, 465.88931271, 426.77521599, 684.16343102,\n",
       "       555.89259539, 657.01992394, 595.80381888, 503.97837905,\n",
       "       586.15587018, 744.2218671 , 512.82535813, 528.22380937,\n",
       "       468.91350132, 357.59143942, 536.42310453, 490.20659998,\n",
       "       550.04758058, 513.45057119, 497.81193001, 578.98625858,\n",
       "       506.53639314, 501.74923331, 421.96679419, 439.89128048,\n",
       "       666.12559173, 298.76200786, 465.17662331, 373.8857237 ,\n",
       "       532.71748568, 554.90078302, 537.77316254, 501.10024523,\n",
       "       517.16513559, 557.52927361, 493.71919298, 452.12262509,\n",
       "       577.27345498, 485.92313052, 425.74509203, 537.2150527 ,\n",
       "       524.63796461, 478.88539132, 612.3852299 , 476.76672415,\n",
       "       505.11963753, 545.94549214, 434.02169975, 424.67528101,\n",
       "       352.55010816, 662.96108781, 560.56016062, 467.50190043,\n",
       "       504.87043239, 590.56271965, 443.96562681, 392.49739919,\n",
       "       568.71757593, 712.39632681, 413.29599918, 562.08204539,\n",
       "       412.0129313 , 468.6684656 , 496.55408164, 548.51852928,\n",
       "       536.13089686, 558.42725718, 357.86371864, 529.0566632 ,\n",
       "       387.35707274, 528.93361857, 420.91615953, 496.93344626,\n",
       "       519.3729768 , 591.43773557, 502.4097853 , 604.33484007,\n",
       "       555.06839405, 256.67058229, 547.11098236, 461.92087689,\n",
       "       458.37691065, 436.28349815, 532.93521884, 512.55253436,\n",
       "       630.42276323, 463.74598112, 493.18021625, 501.20917268,\n",
       "       501.92826487, 376.33690076, 421.32663126, 538.77493348,\n",
       "       398.16346853, 571.47103412, 451.62861054, 490.6004425 ,\n",
       "       591.78108943, 409.07047205, 563.44603567, 647.61945573,\n",
       "       448.34042501, 518.78648309, 523.63393514, 393.85737099,\n",
       "       426.15454771, 503.38788729, 482.60246733, 524.79762757,\n",
       "       574.65484337, 574.74721966, 660.42518429, 375.39845541,\n",
       "       640.18774001, 514.00981785, 376.49684072, 484.51980911,\n",
       "       614.72963763, 567.47501053, 554.00309343, 399.9838716 ,\n",
       "       479.17285149, 585.9318443 , 540.99573911, 628.04780393,\n",
       "       582.49192373, 640.7861664 , 446.41867337, 570.63009809,\n",
       "       423.3083341 , 616.66028602, 530.36246889, 442.36311738,\n",
       "       511.97985999, 560.44379217, 475.26342373, 374.26967454,\n",
       "       463.59141803, 471.60288439, 626.01867266, 432.47206125,\n",
       "       356.61556789, 467.4278485 , 503.21739312, 378.47356645,\n",
       "       584.21831349, 451.72786332, 557.634109  , 432.72071784,\n",
       "       506.42385997, 510.15981728, 587.57479948, 282.47124572,\n",
       "       473.94985742, 489.9080531 , 541.97220376, 266.08634095,\n",
       "       494.68715581, 689.78760417, 387.53471631, 441.89663152,\n",
       "       604.84131882, 302.18954781, 479.61481167, 506.13234244,\n",
       "       319.9288698 , 528.30922503, 610.12803313, 584.10588505,\n",
       "       466.42119882, 404.82452887, 564.79096901, 596.51669797,\n",
       "       368.65478495, 542.41247673, 478.2621264 , 473.36049557,\n",
       "       559.19904795, 447.18764431, 505.23006828, 557.25268675,\n",
       "       422.36873661, 445.06218551, 442.06441376, 533.04006018,\n",
       "       424.2028271 , 498.63559849, 330.59444603, 443.44186006,\n",
       "       478.60091594, 440.00274755, 357.78311075, 476.13924687,\n",
       "       501.1224915 , 592.6884532 , 486.0834255 , 576.02524413,\n",
       "       442.72289157, 461.79095906, 488.38752578, 593.15640148,\n",
       "       392.81034498, 443.19722103, 535.48077519, 533.39655379,\n",
       "       532.12744911, 558.94811239, 508.77190674, 403.7669021 ,\n",
       "       640.5840619 , 461.62827839, 382.41610787, 561.87465767,\n",
       "       444.57614413, 401.03313522, 384.32605714, 527.78299576,\n",
       "       482.14499688, 594.27448342, 502.0925279 , 407.65717876,\n",
       "       708.93518487, 531.96155055, 521.24078024, 447.3690272 ,\n",
       "       385.15233799, 430.58888256, 418.6027421 , 478.95140476,\n",
       "       483.79652206, 538.94197453, 486.16379907, 385.09500707,\n",
       "       527.78378976, 547.19074935, 410.60294395, 583.97780197,\n",
       "       474.53232944, 414.93506065, 550.81336773, 458.78113168,\n",
       "       407.54216801, 581.30893288, 546.55666686, 503.17508519,\n",
       "       549.13157329, 482.83098586, 557.60826205, 484.87696494,\n",
       "       669.9871405 , 547.70998858, 537.8252823 , 408.21690177,\n",
       "       663.07481761, 506.37586675, 528.4193297 , 632.12358814,\n",
       "       488.27029797, 508.73574095, 411.18696357, 409.09452619,\n",
       "       467.80092437, 512.16586639, 608.27181662, 589.02648976,\n",
       "       444.05382657, 493.18126139, 532.72480546, 275.91842065,\n",
       "       511.03878605, 438.41774201, 475.72506791, 483.54319387,\n",
       "       663.80369328, 544.40927216, 630.15672817, 461.11224843,\n",
       "       491.9115051 , 574.41568961, 530.76671865, 581.79879768,\n",
       "       556.29814117, 502.13278923, 556.18636887, 475.0716299 ,\n",
       "       486.94705384, 434.14420203, 304.13559158, 571.21600483,\n",
       "       583.07963566, 445.74984124, 392.99225591, 565.9943634 ,\n",
       "       499.14015245, 510.5394217 , 308.52774656, 561.51653198,\n",
       "       423.47053317, 513.15311185, 529.19451886, 314.4385183 ,\n",
       "       478.58428601, 444.58216498, 475.01540709, 436.72055586,\n",
       "       521.19531053, 478.18305971, 432.48116856, 438.30370785,\n",
       "       388.94054879, 534.77148495, 537.91575292, 407.87637822,\n",
       "       618.84597042, 502.77107457, 397.4205841 , 392.28524425,\n",
       "       689.23569976, 543.13262629, 577.73602485, 436.58074035,\n",
       "       553.99467359, 427.3565308 , 424.72877393, 541.04983096,\n",
       "       469.38314617, 444.54554965, 492.5568337 , 535.32161009,\n",
       "       408.95833594, 487.55545806, 487.64623174, 402.16712222,\n",
       "       551.0230017 , 497.38955776, 494.63860976, 479.24741678,\n",
       "       462.65651893, 515.50247966, 576.47760717, 357.85798361,\n",
       "       597.73987888, 327.37795259, 510.40138845, 510.50147847,\n",
       "       403.81951983, 627.60331871, 510.66179222, 573.84743772,\n",
       "       529.04900413, 551.62014548, 456.46951007, 497.77864222])"
      ]
     },
     "execution_count": 10,
     "metadata": {},
     "output_type": "execute_result"
    }
   ],
   "source": [
    "y"
   ]
  },
  {
   "cell_type": "code",
   "execution_count": 11,
   "metadata": {},
   "outputs": [
    {
     "data": {
      "text/plain": [
       "<matplotlib.collections.PathCollection at 0x21e96abbc40>"
      ]
     },
     "execution_count": 11,
     "metadata": {},
     "output_type": "execute_result"
    },
    {
     "data": {
      "image/png": "[encoded data removed]",
      "text/plain": [
       "<Figure size 432x288 with 1 Axes>"
      ]
     },
     "metadata": {
      "needs_background": "light"
     },
     "output_type": "display_data"
    }
   ],
   "source": [
    "fig = plt.figure()\n",
    "ax = fig.add_axes([0,0,1,1])\n",
    "ax.scatter(X,y,color='blue')"
   ]
  },
  {
   "cell_type": "code",
   "execution_count": 12,
   "metadata": {},
   "outputs": [],
   "source": [
    "from sklearn.model_selection import train_test_split"
   ]
  },
  {
   "cell_type": "code",
   "execution_count": 13,
   "metadata": {},
   "outputs": [],
   "source": [
    "x_train,x_test,y_train,y_test = train_test_split(x,y,test_size=0.3,random_state=0)"
   ]
  },
  {
   "cell_type": "code",
   "execution_count": 14,
   "metadata": {},
   "outputs": [
    {
     "data": {
      "text/plain": [
       "array([[32.4914466 , 12.53035737, 37.8752191 ,  2.47613905],\n",
       "       [32.7111193 , 12.32629139, 36.67387836,  3.35027929],\n",
       "       [33.07773079, 11.46698422, 35.67572763,  1.80922959],\n",
       "       [32.21292383, 11.73299146, 35.63395395,  4.33186303],\n",
       "       [32.77049216, 11.37176736, 35.26149812,  4.03438613],\n",
       "       [30.73772037, 12.63660605, 36.21376309,  3.35784684],\n",
       "       [33.56647439, 12.23565925, 37.27757338,  2.53204406],\n",
       "       [32.24635   , 11.30555143, 37.13312676,  1.70738973],\n",
       "       [34.56868085, 11.37808709, 38.30447119,  3.78493211],\n",
       "       [31.94539575, 12.96576148, 36.9663889 ,  6.07665364],\n",
       "       [32.68624509, 12.63857212, 36.09722093,  4.29773748],\n",
       "       [32.67294353, 12.27605698, 37.19279353,  3.98247151],\n",
       "       [35.86023651, 11.73066139, 36.88214908,  3.41620998],\n",
       "       [34.39432665, 12.80775183, 38.55103029,  1.81007988],\n",
       "       [31.86483255, 13.44340599, 36.87831537,  2.36108695],\n",
       "       [32.83789305, 13.18518117, 35.92159519,  1.82359518],\n",
       "       [34.20053941, 12.66780888, 37.48704925,  3.70162229],\n",
       "       [33.34450869, 10.96980287, 35.97457811,  2.62762497],\n",
       "       [36.13966249, 12.05026723, 36.95964319,  3.86486074],\n",
       "       [32.86532717, 11.98441752, 37.0443614 ,  3.45238858],\n",
       "       [34.96760989, 13.9194944 , 37.95201319,  5.06669686],\n",
       "       [33.10035775, 11.83211223, 36.84149164,  3.61223915],\n",
       "       [32.92261076, 11.56811634, 36.90937821,  2.47175067],\n",
       "       [33.1556997 , 12.93155027, 38.16643556,  3.85447386],\n",
       "       [34.55576799, 12.17052542, 39.13109673,  3.66310549],\n",
       "       [32.14906052, 10.04731474, 37.18144731,  3.53508843],\n",
       "       [33.50308726, 12.8779837 , 37.44102134,  1.55915194],\n",
       "       [32.99059904, 10.44123506, 35.9389625 ,  2.89507516],\n",
       "       [33.79038721, 11.94234087, 38.06341359,  4.08180269],\n",
       "       [32.00475302, 11.39520943, 37.33281446,  3.803365  ],\n",
       "       [31.86274111, 14.03986726, 37.02226899,  3.73822517],\n",
       "       [32.40173183, 12.08930957, 38.3099079 ,  3.87333757],\n",
       "       [33.01479222, 11.76117233, 37.57016384,  3.83416967],\n",
       "       [32.71251233, 11.72447386, 37.1531516 ,  3.308443  ],\n",
       "       [31.44744649, 10.1016322 , 38.04345265,  4.23829619],\n",
       "       [33.68093695, 11.20156988, 37.83544773,  2.20881368],\n",
       "       [34.72908017, 11.96689808, 36.54759628,  2.95744876],\n",
       "       [33.94311858, 11.48419869, 36.83936583,  2.40245383],\n",
       "       [33.55165061, 11.93689516, 35.90025278,  4.54333241],\n",
       "       [31.26064687, 13.26676035, 36.9711951 ,  2.26725111],\n",
       "       [33.26463207, 10.73213134, 36.14579171,  4.08656634],\n",
       "       [34.56455771, 13.14655143, 37.33544589,  3.87687518],\n",
       "       [33.08529799, 13.09353728, 38.31564796,  4.75036007],\n",
       "       [33.63662446, 11.23650676, 37.67502073,  5.25470893],\n",
       "       [33.55520742, 11.55182117, 36.62883429,  2.83794316],\n",
       "       [31.92627203, 11.10946073, 37.26895887,  2.66403418],\n",
       "       [34.33075044, 13.72245368, 35.77311639,  2.90900846],\n",
       "       [33.78520721, 13.03951103, 36.31272657,  2.01819463],\n",
       "       [31.6739155 , 12.32914702, 37.07437107,  3.98246232],\n",
       "       [32.42569728, 11.44890154, 37.58019043,  2.58696799],\n",
       "       [34.17951757, 12.58154773, 35.4442647 ,  3.13706898],\n",
       "       [33.42874704, 10.63676108, 37.57883524,  2.92639645],\n",
       "       [32.30274837, 12.81539265, 37.95780983,  4.61542631],\n",
       "       [33.92462481, 11.91141556, 38.2747022 ,  2.91003792],\n",
       "       [34.312167  , 11.81058676, 37.41413357,  2.47359612],\n",
       "       [29.53242897, 10.9612984 , 37.42021558,  4.04642316],\n",
       "       [31.12809005, 13.27895623, 37.38718053,  4.62607529],\n",
       "       [32.52976873, 11.7477317 , 36.93988205,  0.80151572],\n",
       "       [34.64266976, 11.86648121, 37.71777057,  4.00332504],\n",
       "       [32.34279623, 11.40964462, 35.77778217,  3.87243204],\n",
       "       [32.59718266, 10.88956686, 38.21257083,  4.44205433],\n",
       "       [33.19157088,  9.84612491, 36.87631323,  3.80667095],\n",
       "       [33.63781168, 12.03950237, 34.48718475,  2.73920047],\n",
       "       [34.08026009, 11.5914397 , 36.45689841,  4.65285445],\n",
       "       [33.02642035, 13.18681287, 38.0669296 ,  2.89829958],\n",
       "       [32.73322416, 11.81857176, 37.10203133,  1.50385442],\n",
       "       [33.99257277, 13.33897545, 37.22580613,  2.48260777],\n",
       "       [31.1695068 , 13.97018107, 36.67395274,  1.78517394],\n",
       "       [33.54047906, 12.88412462, 36.22604169,  5.00727199],\n",
       "       [32.04983939, 12.23805735, 38.73086174,  3.12056891],\n",
       "       [32.60928264, 10.53730754, 35.7305524 ,  3.91438467],\n",
       "       [34.37425805, 15.12699429, 37.15762409,  5.37759358],\n",
       "       [31.81642833, 14.28801459, 36.77386137,  2.96449788],\n",
       "       [33.44812501, 11.90375668, 36.8745436 ,  2.78275783],\n",
       "       [33.30857162, 11.69168613, 37.48091198,  1.71577717],\n",
       "       [33.98100558,  9.3162892 , 36.91495155,  2.86842818],\n",
       "       [33.10833615, 12.89237451, 36.5273883 ,  4.59411686],\n",
       "       [32.49839307, 13.41075918, 35.99048895,  3.18461866],\n",
       "       [34.34392191, 11.6930582 , 36.81293413,  3.4470929 ],\n",
       "       [31.30919264, 11.94717532, 36.19083324,  3.20552976],\n",
       "       [31.90485713, 12.22772828, 36.98591348,  3.77142013],\n",
       "       [33.17720467, 11.62277717, 35.96889569,  3.63409373],\n",
       "       [33.81173341, 11.18680872, 36.29889308,  4.3019965 ],\n",
       "       [31.73663569, 10.74853366, 35.73870747,  4.83552867],\n",
       "       [30.57436368, 11.35104901, 37.08884658,  4.078308  ],\n",
       "       [33.21718784, 10.99968366, 38.44276669,  4.24381282],\n",
       "       [31.57413802, 12.94155573, 36.72527683,  4.56039607],\n",
       "       [34.60331112, 12.20729849, 33.91384725,  6.92268934],\n",
       "       [31.81248256, 10.88692118, 34.89782769,  3.12863886],\n",
       "       [34.39016366, 12.64519514, 38.46832111,  2.87459691],\n",
       "       [34.11756669, 11.59187167, 37.7436197 ,  3.6785894 ],\n",
       "       [33.59891334, 13.25273709, 37.30596142,  2.93557727],\n",
       "       [33.97172204, 12.28446707, 38.29572526,  1.13047696],\n",
       "       [34.87849495, 13.06789568, 36.67822227,  1.92071548],\n",
       "       [33.07570303, 12.31984506, 37.81915511,  3.4427992 ],\n",
       "       [31.82934646, 11.26825923, 36.95696543,  2.66891977],\n",
       "       [32.6882293 , 13.76153285, 39.25293095,  2.99576118],\n",
       "       [33.20061634, 11.96598027, 36.83153585,  3.54903606],\n",
       "       [33.87978429, 12.4955916 , 38.05260975,  4.63932033],\n",
       "       [32.90345433, 10.54264542, 35.5338635 ,  3.09182687],\n",
       "       [32.06377462, 10.71914974, 37.71250864,  3.00474254],\n",
       "       [32.3025531 , 11.97906148, 38.26906069,  3.53286158],\n",
       "       [34.33589584, 12.22893471, 36.15719115,  4.69432227],\n",
       "       [33.70088554, 13.47157767, 37.0716432 ,  2.3790765 ],\n",
       "       [32.0215955 , 11.36634831, 36.68377615,  4.68501725],\n",
       "       [33.86318871, 11.52352268, 35.93804523,  3.0130325 ],\n",
       "       [32.65318146, 11.60253219, 37.30968877,  2.78946152],\n",
       "       [32.69323954, 12.6007504 , 37.37011822,  3.46701407],\n",
       "       [30.4925367 , 11.56293625, 35.97656497,  1.48161663],\n",
       "       [32.44952156, 13.45772494, 37.23880567,  2.94141075],\n",
       "       [34.43642584, 13.3254691 , 36.76860309,  3.37125811],\n",
       "       [32.73914294, 12.35195897, 37.37335886,  4.43427343],\n",
       "       [34.55829461, 11.281445  , 36.49440648,  2.49167154],\n",
       "       [33.9877729 , 13.38623528, 37.53449734,  3.27343358],\n",
       "       [31.87455169, 10.29035077, 36.92976156,  3.49109334],\n",
       "       [31.12397435, 12.38651626, 35.63211222,  4.28848677],\n",
       "       [33.58294684, 12.76153128, 36.90818962,  2.47933982],\n",
       "       [31.3123496 , 11.68490419, 38.7170763 ,  3.5942951 ],\n",
       "       [31.76561882, 12.44261655, 38.13171203,  3.85027964],\n",
       "       [32.28312306, 10.90255623, 36.09424195,  4.78920162],\n",
       "       [33.74922777, 11.1371403 , 38.40137369,  4.59552271],\n",
       "       [31.66104982, 11.39806419, 36.5944567 ,  3.19839927],\n",
       "       [33.54097679, 11.85189083, 37.42454792,  1.76773071],\n",
       "       [32.03054972, 12.64420212, 38.00182747,  5.03810749],\n",
       "       [32.59209323, 10.31471792, 36.7290294 ,  4.79110874],\n",
       "       [31.7207699 , 11.75234317, 38.57360523,  5.0239342 ],\n",
       "       [33.75499473, 12.06415663, 37.27122169,  3.97055563],\n",
       "       [32.86530121, 12.07483017, 35.56917032,  2.39907979],\n",
       "       [33.48193057, 11.91867031, 37.31770495,  3.33633938],\n",
       "       [32.9925732 , 13.00436201, 36.98504142,  4.62041638],\n",
       "       [33.36938094, 12.22248394, 36.35523488,  3.44701779],\n",
       "       [33.94624062, 10.98397673, 37.95148946,  3.05071297],\n",
       "       [33.39826013, 11.03785041, 38.61733445,  4.11634047],\n",
       "       [33.9252966 , 11.58865542, 35.25224202,  3.39205049],\n",
       "       [33.79475594, 10.98280553, 34.81063145,  3.20180172],\n",
       "       [34.69559119, 11.60899707, 37.68487728,  3.16309193],\n",
       "       [35.37187609, 10.5724666 , 36.86218335,  4.19834906],\n",
       "       [33.11995443, 12.95326254, 37.03427958,  3.47202138],\n",
       "       [33.67683087, 10.97139243, 37.72236711,  3.62933992],\n",
       "       [32.48426048, 10.93325228, 36.54550623,  3.26132474],\n",
       "       [33.45947685, 11.38861262, 37.90913872,  2.56663984],\n",
       "       [34.18777483, 10.32011626, 37.4534051 ,  2.09489171],\n",
       "       [33.87974497, 13.58780608, 38.26035344,  3.25811288],\n",
       "       [33.54123131, 12.78389178, 36.43064962,  4.64819932],\n",
       "       [35.63085386, 12.12540197, 38.18776368,  4.01905143],\n",
       "       [33.33067252, 12.79518855, 37.5366533 ,  4.44630832],\n",
       "       [33.53186013, 13.66576979, 36.90022076,  3.51568826],\n",
       "       [32.27459383, 12.95481145, 37.10881638,  3.68991662],\n",
       "       [32.9800292 , 11.20115977, 37.68933698,  2.41283096],\n",
       "       [33.87103788, 12.02692534, 34.47687763,  5.4935072 ]])"
      ]
     },
     "execution_count": 14,
     "metadata": {},
     "output_type": "execute_result"
    }
   ],
   "source": [
    "x_test"
   ]
  },
  {
   "cell_type": "code",
   "execution_count": 15,
   "metadata": {},
   "outputs": [
    {
     "data": {
      "text/plain": [
       "array([449.07031944, 482.60246733, 374.26967454, 513.15311185,\n",
       "       502.77107457, 461.7807422 , 466.42119882, 327.37795259,\n",
       "       528.22380937, 657.01992394, 571.47103412, 523.63393514,\n",
       "       546.55666686, 467.4278485 , 439.89128048, 445.06218551,\n",
       "       553.99467359, 403.7669021 , 595.80381888, 490.73863214,\n",
       "       712.39632681, 502.0925279 , 398.16346853, 570.45172591,\n",
       "       549.86059046, 392.99225591, 419.93877484, 407.65717876,\n",
       "       521.14295181, 463.74598112, 556.29814117, 506.54730705,\n",
       "       514.33655827, 476.76672415, 418.6027421 , 403.81951983,\n",
       "       506.13234244, 436.72055586, 558.94811239, 421.32663126,\n",
       "       478.2621264 , 593.91500297, 632.12358814, 591.43773557,\n",
       "       444.2859075 , 392.20493344, 558.42725718, 447.18764431,\n",
       "       475.72506791, 420.73767324, 527.78299576, 421.96679419,\n",
       "       576.02524413, 460.06127739, 452.627255  , 408.64035107,\n",
       "       557.25268675, 298.76200786, 555.06839405, 486.0834255 ,\n",
       "       488.78606109, 423.3083341 , 458.78113168, 574.41568961,\n",
       "       489.9080531 , 352.55010816, 492.60601272, 427.3565308 ,\n",
       "       628.04780393, 478.71935687, 463.92351299, 765.51846194,\n",
       "       501.1224915 , 462.65651893, 373.8857237 , 384.32605714,\n",
       "       614.72963763, 518.06455798, 510.50147847, 432.72071784,\n",
       "       473.94985742, 501.20917268, 535.32161009, 496.93344626,\n",
       "       442.06441376, 505.23006828, 544.40927216, 744.2218671 ,\n",
       "       392.81034498, 522.40414126, 519.3729768 , 528.4193297 ,\n",
       "       385.09500707, 504.87043239, 501.10024523, 385.15233799,\n",
       "       520.89879445, 499.14015245, 616.85152297, 412.0129313 ,\n",
       "       378.33090691, 478.60091594, 595.8228367 , 492.5568337 ,\n",
       "       521.57217476, 444.05382657, 422.42677588, 501.92826487,\n",
       "       282.47124572, 503.97837905, 582.49192373, 549.90414611,\n",
       "       433.0487691 , 570.20040896, 392.28524425, 486.94705384,\n",
       "       478.95140476, 463.59141803, 496.55408164, 524.63796461,\n",
       "       556.18636887, 416.35835358, 407.80403064, 594.27448342,\n",
       "       493.18126139, 538.77493348, 547.36514059, 411.18696357,\n",
       "       503.17508519, 589.02648976, 515.50247966, 436.28349815,\n",
       "       510.15981728, 483.67330802, 451.72786332, 510.40138845,\n",
       "       537.91575292, 534.77148495, 478.18305971, 425.74509203,\n",
       "       434.02169975, 384.62657157, 578.24160506, 619.89563986,\n",
       "       597.73987888, 599.40609205, 564.79096901, 533.04006018,\n",
       "       409.07047205, 637.10244792])"
      ]
     },
     "execution_count": 15,
     "metadata": {},
     "output_type": "execute_result"
    }
   ],
   "source": [
    "y_test"
   ]
  },
  {
   "cell_type": "code",
   "execution_count": 16,
   "metadata": {},
   "outputs": [],
   "source": [
    "from sklearn.linear_model import LinearRegression"
   ]
  },
  {
   "cell_type": "code",
   "execution_count": 17,
   "metadata": {},
   "outputs": [],
   "source": [
    "model = LinearRegression()"
   ]
  },
  {
   "cell_type": "code",
   "execution_count": 18,
   "metadata": {},
   "outputs": [
    {
     "data": {
      "text/plain": [
       "LinearRegression()"
      ]
     },
     "execution_count": 18,
     "metadata": {},
     "output_type": "execute_result"
    }
   ],
   "source": [
    "model.fit(x_train,y_train)"
   ]
  },
  {
   "cell_type": "code",
   "execution_count": 20,
   "metadata": {},
   "outputs": [],
   "source": [
    "y_predict = model.predict(x_test)"
   ]
  },
  {
   "cell_type": "code",
   "execution_count": 21,
   "metadata": {},
   "outputs": [
    {
     "data": {
      "text/plain": [
       "486.9034458619167"
      ]
     },
     "execution_count": 21,
     "metadata": {},
     "output_type": "execute_result"
    }
   ],
   "source": [
    "y_predict[19]"
   ]
  },
  {
   "cell_type": "code",
   "execution_count": 22,
   "metadata": {},
   "outputs": [
    {
     "data": {
      "text/plain": [
       "array([32.86532717, 11.98441752, 37.0443614 ,  3.45238858])"
      ]
     },
     "execution_count": 22,
     "metadata": {},
     "output_type": "execute_result"
    }
   ],
   "source": [
    "x_test[19]"
   ]
  },
  {
   "cell_type": "code",
   "execution_count": 23,
   "metadata": {},
   "outputs": [
    {
     "data": {
      "text/plain": [
       "490.73863214395465"
      ]
     },
     "execution_count": 23,
     "metadata": {},
     "output_type": "execute_result"
    }
   ],
   "source": [
    "y_test[19]"
   ]
  },
  {
   "cell_type": "code",
   "execution_count": null,
   "metadata": {},
   "outputs": [],
   "source": []
  }
 ],
 "metadata": {
  "kernelspec": {
   "display_name": "Python 3",
   "language": "python",
   "name": "python3"
  },
  "language_info": {
   "codemirror_mode": {
    "name": "ipython",
    "version": 3
   },
   "file_extension": ".py",
   "mimetype": "text/x-python",
   "name": "python",
   "nbconvert_exporter": "python",
   "pygments_lexer": "ipython3",
   "version": "3.8.3"
  }
 },
 "nbformat": 4,
 "nbformat_minor": 4
}
